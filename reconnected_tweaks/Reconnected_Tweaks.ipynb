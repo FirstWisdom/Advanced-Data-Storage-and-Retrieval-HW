{
 "cells": [
  {
   "cell_type": "code",
   "execution_count": 1,
   "metadata": {},
   "outputs": [],
   "source": [
    "%matplotlib inline\n",
    "from matplotlib import style\n",
    "style.use('fivethirtyeight')\n",
    "import matplotlib.pyplot as plt\n",
    "import numpy as np\n",
    "import pandas as pd\n",
    "import datetime as dt\n",
    "import sqlalchemy\n",
    "from sqlalchemy.ext.automap import automap_base\n",
    "from sqlalchemy.orm import Session\n",
    "from sqlalchemy import create_engine, func, inspect"
   ]
  },
  {
   "cell_type": "code",
   "execution_count": null,
   "metadata": {},
   "outputs": [],
   "source": [
    "engine = create_engine(\"sqlite:///Resources/hawaii.sqlite\")\n",
    "inspector = inspect(engine)"
   ]
  },
  {
   "cell_type": "code",
   "execution_count": 2,
   "metadata": {},
   "outputs": [
    {
     "ename": "NameError",
     "evalue": "name 'engine' is not defined",
     "output_type": "error",
     "traceback": [
      "\u001b[1;31m---------------------------------------------------------------------------\u001b[0m",
      "\u001b[1;31mNameError\u001b[0m                                 Traceback (most recent call last)",
      "\u001b[1;32m<ipython-input-2-f6a23d3d2a7f>\u001b[0m in \u001b[0;36m<module>\u001b[1;34m()\u001b[0m\n\u001b[0;32m      2\u001b[0m \u001b[0mBase\u001b[0m \u001b[1;33m=\u001b[0m \u001b[0mautomap_base\u001b[0m\u001b[1;33m(\u001b[0m\u001b[1;33m)\u001b[0m\u001b[1;33m\u001b[0m\u001b[0m\n\u001b[0;32m      3\u001b[0m \u001b[1;31m# reflect the tables\u001b[0m\u001b[1;33m\u001b[0m\u001b[1;33m\u001b[0m\u001b[0m\n\u001b[1;32m----> 4\u001b[1;33m \u001b[0mBase\u001b[0m\u001b[1;33m.\u001b[0m\u001b[0mprepare\u001b[0m\u001b[1;33m(\u001b[0m\u001b[0mengine\u001b[0m\u001b[1;33m,\u001b[0m \u001b[0mreflect\u001b[0m\u001b[1;33m=\u001b[0m\u001b[1;32mTrue\u001b[0m\u001b[1;33m)\u001b[0m\u001b[1;33m\u001b[0m\u001b[0m\n\u001b[0m",
      "\u001b[1;31mNameError\u001b[0m: name 'engine' is not defined"
     ]
    }
   ],
   "source": [
    "# reflect an existing database into a new model\n",
    "Base = automap_base()\n",
    "# reflect the tables\n",
    "Base.prepare(engine, reflect=True)"
   ]
  },
  {
   "cell_type": "code",
   "execution_count": null,
   "metadata": {},
   "outputs": [],
   "source": [
    "# We can view all of the classes that automap found\n",
    "Base.classes.keys()"
   ]
  },
  {
   "cell_type": "code",
   "execution_count": null,
   "metadata": {},
   "outputs": [],
   "source": [
    "# Save references to each table\n",
    "Measurement = Base.classes.measurement\n",
    "Station = Base.classes.station"
   ]
  },
  {
   "cell_type": "code",
   "execution_count": null,
   "metadata": {},
   "outputs": [],
   "source": [
    "# Create our session (link) from Python to the DB\n",
    "session = Session(engine)"
   ]
  },
  {
   "cell_type": "code",
   "execution_count": null,
   "metadata": {},
   "outputs": [],
   "source": [
    "# Get column names and types for reference\n",
    "inspector.get_columns(\"measurement\")\n",
    "columns = inspector.get_columns(\"measurement\")\n",
    "for column in columns:  \n",
    "    print(column[\"name\"], column[\"type\"])"
   ]
  },
  {
   "cell_type": "code",
   "execution_count": null,
   "metadata": {},
   "outputs": [],
   "source": [
    "# Preview table\n",
    "meas_preview = engine.execute('SELECT * FROM measurement LIMIT 1')\n",
    "for row in meas_preview:\n",
    "    print(row)"
   ]
  },
  {
   "cell_type": "code",
   "execution_count": null,
   "metadata": {},
   "outputs": [],
   "source": [
    "# Design a query to retrieve the last 12 months of precipitation data.\n",
    "# Retrieve the most recent date in the dataset to calculate the last 12 months\n",
    "last_date = session.query(Measurement.date).order_by(Measurement.date.desc()).first()\n",
    "# Retrieve the last 12 months of precipitation data\n",
    "last_12_mo_data = session.query(Measurement.id, Measurement.station, Measurement.date, Measurement.prcp, Measurement.tobs).filter(Measurement.date <= '2017-08-23').filter(Measurement.date >= '2016-08-23').all()\n",
    "prcp_and_date_data = session.query(Measurement.date, Measurement.prcp).filter(Measurement.date <= '2017-08-23').filter(Measurement.date >= '2016-08-23').all()"
   ]
  },
  {
   "cell_type": "code",
   "execution_count": null,
   "metadata": {},
   "outputs": [],
   "source": [
    "#Load the query results into a Pandas DataFrame and set the index to the date column\n",
    "prcp_df = pd.DataFrame(prcp_and_date_data, columns=['date', 'precipitation'])\n",
    "prcp_df.set_index('date', inplace=True)\n",
    "prcp_df.head()"
   ]
  },
  {
   "cell_type": "code",
   "execution_count": null,
   "metadata": {},
   "outputs": [],
   "source": [
    "# Sort the DataFrame Values by date\n",
    "prcp_df.sort_values(by=['date'])\n",
    "prcp_df.head()"
   ]
  },
  {
   "cell_type": "code",
   "execution_count": null,
   "metadata": {},
   "outputs": [],
   "source": [
    "# Plot the results using the DataFrame plot method\n",
    "prcp_df.plot.bar()\n",
    "plt.tight_layout()\n",
    "plt.show()"
   ]
  },
  {
   "cell_type": "code",
   "execution_count": null,
   "metadata": {},
   "outputs": [],
   "source": [
    "prcp_df.describe"
   ]
  },
  {
   "cell_type": "code",
   "execution_count": null,
   "metadata": {},
   "outputs": [],
   "source": [
    "# Get column names and types for reference\n",
    "inspector.get_columns(\"Station\")\n",
    "columns = inspector.get_columns(\"Station\")\n",
    "for column in columns:  \n",
    "    print(column[\"name\"], column[\"type\"])"
   ]
  },
  {
   "cell_type": "code",
   "execution_count": null,
   "metadata": {},
   "outputs": [],
   "source": [
    "# Design a query to calculate the total number of stations\n",
    "total_stations = session.query(Station.station).count()\n",
    "print(total_stations)"
   ]
  },
  {
   "cell_type": "code",
   "execution_count": null,
   "metadata": {},
   "outputs": [],
   "source": [
    "# Design a query to find the most active stations\n",
    "most_active_stations = session.query(Measurement.station, func.count(Measurement.tobs)).group_by(Measurement.station).order_by(func.count(Measurement.tobs).desc())\n",
    "most_active_stations.all()\n",
    "\n",
    "# Which station has the highest number of observations?\n",
    "# Answer: USC00519281"
   ]
  },
  {
   "cell_type": "code",
   "execution_count": null,
   "metadata": {},
   "outputs": [],
   "source": [
    "# Design a query to retrieve the last 12 months of temperature observation data (tobs)\n",
    "tobs_last_12_mo = session.query(Measurement.date, Measurement.tobs).group_by(Measurement.date).filter(Measurement.date <= '2017-08-23').filter(Measurement.date >= '2016-08-23').all()\n",
    "# Filter by the highest number of observations\n",
    "tobs_last_12_mo = session.query(Measurement.date, Measurement.tobs).group_by(Measurement.date).filter(Measurement.date <= '2017-08-23').filter(Measurement.date >= '2016-08-23').filter(Measurement.station=='USC00519281').all()"
   ]
  },
  {
   "cell_type": "code",
   "execution_count": null,
   "metadata": {},
   "outputs": [],
   "source": [
    "# Plot the results as a histogram with bins=12\n",
    "stations_hist = pd.DataFrame(data=tobs_last_12_mo, columns=['station', 'date', 'tobs'])\n",
    "stations_hist = stations_hist.set_index('date', drop=True)\n",
    "stations_hist = stations_hist.drop(columns=\"station\", axis=1)\n",
    "\n",
    "x = stations_hist['tobs']\n",
    "num_bins = 12\n",
    "plt.figure(figsize=[10, 7])\n",
    "temp_plot = plt.hist(x, num_bins, color='lightskyblue', label='tobs', alpha=.8)\n",
    "\n",
    "\n",
    "plt.ylabel('Frequency', fontsize=10)\n",
    "plt.tick_params(axis='y', labelsize=10)\n",
    "plt.tick_params(axis='x', labelsize=10)\n",
    "legend = plt.legend(frameon=True, edgecolor='black', fontsize='large')"
   ]
  },
  {
   "cell_type": "code",
   "execution_count": null,
   "metadata": {},
   "outputs": [],
   "source": []
  },
  {
   "cell_type": "code",
   "execution_count": null,
   "metadata": {},
   "outputs": [],
   "source": []
  },
  {
   "cell_type": "code",
   "execution_count": null,
   "metadata": {},
   "outputs": [],
   "source": [
    "# STEP 2"
   ]
  },
  {
   "cell_type": "code",
   "execution_count": null,
   "metadata": {},
   "outputs": [],
   "source": []
  },
  {
   "cell_type": "code",
   "execution_count": null,
   "metadata": {},
   "outputs": [],
   "source": []
  },
  {
   "cell_type": "code",
   "execution_count": null,
   "metadata": {},
   "outputs": [],
   "source": [
    "from flask import Flask, jsonify"
   ]
  },
  {
   "cell_type": "code",
   "execution_count": null,
   "metadata": {},
   "outputs": [],
   "source": [
    "app = Flask(__name__)"
   ]
  },
  {
   "cell_type": "code",
   "execution_count": null,
   "metadata": {},
   "outputs": [],
   "source": [
    "# Routes\n",
    "# List all routes available\n",
    "@app.route('/')\n",
    "def homepage():\n",
    "    return(\n",
    "        f'Available Routes:'\n",
    "        f'Date range is from 2010-01-01 through 2017-08-23.'\n",
    "\n",
    "        f'/api/v1.0/precipitation'\n",
    "        f'Query dates and temperature from the last year.''\n",
    "\n",
    "        f'/api/v1.0/stations'\n",
    "        f'Returns a JSON list of stations from the dataset.'\n",
    "\n",
    "        f'/api/v1.0/tobs'\n",
    "        f'Return a JSON list of Temperature Observations (tobs) for the previous year.'\n",
    "\n",
    "        f'/api/v1.0/<start> and /api/v1.0/<start>/<end>'\n",
    "        f'Returns a JSON list of the minimum temperature, the average temperature, and the max temperature for a given start or start-end range.'\n",
    "        )"
   ]
  },
  {
   "cell_type": "code",
   "execution_count": null,
   "metadata": {},
   "outputs": [],
   "source": [
    "# Return the JSON representation of your dictionary.\n",
    "@app.route('/api/v1.0/precipitation')\n",
    "def precipitation():\n",
    "    prcp_results = session.query(Measurement.date, Measurement.prcp).filter(Measurement.date <= '2017-08-23').filter(Measurement.date >= '2016-08-23').all()\n",
    "    prcp_results_list = []\n",
    "    for prcp in prc_results:\n",
    "        prcp_dict = {}\n",
    "        prcp_dict[\"date\"] = prcp_results[0]\n",
    "        prcp_dict[\"prcp\"] = float(prcp_results[1])\n",
    "        prcp_results_list.append(prcp_dict)\n",
    "\n",
    "    return jsonify(prcp_results_list)"
   ]
  },
  {
   "cell_type": "code",
   "execution_count": null,
   "metadata": {},
   "outputs": [],
   "source": [
    "# Return a JSON list of stations from the dataset.\n",
    "@app.route('/api/v1.0/stations')\n",
    "def stations():\n",
    "    all_stations = session.query(Station.station).all()\n",
    "    all_stations_list = list(np.ravel(all_stations))\n",
    "    \n",
    "    return jsonify(all_stations_list)"
   ]
  },
  {
   "cell_type": "code",
   "execution_count": null,
   "metadata": {},
   "outputs": [],
   "source": [
    "# Return a JSON list of Temperature Observations (tobs) for the previous year.\n",
    "@app.route('/api/v1.0/tobs')\n",
    "def tobs():\n",
    "    all_tobs = session.query(Measurement.date, Measurement.tobs).group_by(Measurement.date).filter(Measurement.date <= '2017-08-23').filter(Measurement.date >= '2016-08-23').all()\n",
    "    all_tobs_list = list(np.ravel(all_tobs))\n",
    "    return jsonify(all_tobs_list)"
   ]
  },
  {
   "cell_type": "code",
   "execution_count": null,
   "metadata": {},
   "outputs": [],
   "source": [
    "#Return a JSON list of the minimum temperature, the average temperature, and the max temperature for a given start or start-end range.\n",
    "def start_end(start=None, end=None):\n",
    "    # When given the start only, calculate TMIN, TAVG, and TMAX for all dates greater than and equal to the start date.\n",
    "    sel = [func.min(Measurement.tobs), func.avg(Measurement.tobs), func.max(Measurement.tobs)]\n",
    "    if not end:\n",
    "        temps1 = session.query(*sel).filter(Measurement.date >= start).all()\n",
    "        temps1_list = list(np.ravel(temps1))\n",
    "        return jsonify(temps1_list)\n",
    "    \n",
    "    # When given the start and the end date, calculate the TMIN, TAVG, and TMAX for dates between the start and end date inclusive.\n",
    "    temps2 = session.query(*sel).filter(Measurement.date >= start).filter(Measurement.date <= end).all()\n",
    "    temps2_list = list(np.ravel(temps2))\n",
    "    return jsonify(temps2_list)\n",
    "\n",
    "if __name__ == '__main__':\n",
    "    app.run(debug=True)"
   ]
  }
 ],
 "metadata": {
  "kernelspec": {
   "display_name": "Python [conda env:ClassHW]",
   "language": "python",
   "name": "conda-env-ClassHW-py"
  },
  "language_info": {
   "codemirror_mode": {
    "name": "ipython",
    "version": 3
   },
   "file_extension": ".py",
   "mimetype": "text/x-python",
   "name": "python",
   "nbconvert_exporter": "python",
   "pygments_lexer": "ipython3",
   "version": "3.6.6"
  }
 },
 "nbformat": 4,
 "nbformat_minor": 2
}
